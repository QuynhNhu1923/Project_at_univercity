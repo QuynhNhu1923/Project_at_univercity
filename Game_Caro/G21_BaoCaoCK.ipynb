{
 "cells": [
  {
   "cell_type": "markdown",
   "id": "0cdd77e1-2bf5-4836-8230-6029871af99b",
   "metadata": {},
   "source": [
    "# Báo cáo cuối kỳ Project\n",
    "## Chủ đề: Game cờ caro\n",
    "Lớp TTNT-147729, Nhóm G21"
   ]
  },
  {
   "cell_type": "markdown",
   "id": "f4b8bea4-3171-4cd9-a989-dbb13c240088",
   "metadata": {},
   "source": [
    "## 1. Các kiến thức áp dụng trong bài tập lớp"
   ]
  },
  {
   "cell_type": "markdown",
   "id": "d8fccbca-82ea-446d-92b8-a4478cd8500a",
   "metadata": {},
   "source": [
    "- Biểu diễn tri thức:\n",
    "  + Biểu diễn tri thức bằng khung: để xây dựng các đối tượng chứa các thuộc tính và phương thức, mỗi đối tượng phụ trách nhiệm vụ khác nhau\n",
    "  + Biểu diễn tri thức bằng luật: chủ yếu sử dụng trong lớp BoardEval, có 1 tập dữ liệu chứa tập điểm theo từng trường hợp và hàm boardEval xử lí tập dữ liệu đấy dựa theo dữ liệu đầu vào\n",
    "- Giải quyết vẫn đề bằng giải thuật Minimax kết hợp với cắt tỉa AlphaBeta "
   ]
  },
  {
   "cell_type": "markdown",
   "id": "e19be6e6-74ab-453c-bd7b-f5b3174512a0",
   "metadata": {},
   "source": [
    "## 2. Mô tả cách hoạt động của AI"
   ]
  },
  {
   "cell_type": "markdown",
   "id": "66c7b325-51a6-4071-947b-6a21bb76b1b2",
   "metadata": {},
   "source": [
    "- Lượt đầu tiên nếu là máy đánh trưóc thì sẽ đánh ngẫu nhiên trong vùng trung tâm. \n",
    "- Trong lượt 2-3 máy sẽ nhận danh sách các vị trí đã được đánh theo thứ tự, sau đó tra cứu trong Opening Book, nếu như có sẵn nước đi tiếp theo máy sẽ lấy ra ngẫu nhiên và sử dụng, nếu không có thì sẽ sử dụng thuật toán Minimax-AlphaBeta. Trong OpeningBook sẽ chứa 1 tập các chuỗi hành động có sẵn và 3 mảng dành cho 3 lượt 2, 3, 4 để máy gọi vào mỗi lượt tương ứng. \n",
    "- Các lượt còn lại máy sử dụng thuật toán MiniMax-AlphaBeta, kết hợp với hàm đánh giá trạng thái mỗi bàn chơi. Điểm đánh giá bằng điểm tấn công trừ đi điểm phòng thủ. Điểm tấn công là xét bàn chơi theo hướng có lợi cho máy và Điểm phòng thủ là xét vàn chơi theo hướng có lợi cho người chơi\n",
    "\n"
   ]
  }
 ],
 "metadata": {
  "kernelspec": {
   "display_name": "Python 3 (ipykernel)",
   "language": "python",
   "name": "python3"
  },
  "language_info": {
   "codemirror_mode": {
    "name": "ipython",
    "version": 3
   },
   "file_extension": ".py",
   "mimetype": "text/x-python",
   "name": "python",
   "nbconvert_exporter": "python",
   "pygments_lexer": "ipython3",
   "version": "3.12.3"
  }
 },
 "nbformat": 4,
 "nbformat_minor": 5
}
